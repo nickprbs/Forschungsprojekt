{
 "cells": [
  {
   "cell_type": "markdown",
   "metadata": {},
   "source": [
    "## Visualization Builder for the Bachelor Research project \"Gamepad Controls for Visualizations\"\n",
    "\n",
    "### Introduction\n",
    "This file generates the Vega-Lite code used for the three connected Visualizations. It is intended to provide live interaction for testing and tweaking purposes. The code for the final chart versions can be found in a compact python file [`visualization_builder.py`](./visualization_builder.py)  that can be run on its own if you just want to quickly generate the code or use it inside a pipeline. \n"
   ]
  },
  {
   "cell_type": "code",
   "execution_count": 2,
   "metadata": {},
   "outputs": [],
   "source": [
    "# imports\n",
    "import altair as alt\n",
    "data_url = \"https://raw.githubusercontent.com/nickprbs/Forschungsprojekt/refs/heads/main/yearly_avg_downsampled.csv\""
   ]
  },
  {
   "cell_type": "markdown",
   "metadata": {},
   "source": [
    "### Single-Chart Pipeline ###\n",
    "Each chart created with Altair needs to be constructed through a pipeline. Although some steps are **optional**, their *order* **is not!** \n",
    "Here is the order that should be followed:\n",
    "1. **Data**: Set the source of the data (e.g. as Dataframe, URL, etc.)\n",
    "2. **Transformation**: Perform transformations on the data (e.g. calculate new columns, filter columns, aggregate data points...) \n",
    "3. **Visualization**: Choose the kind of visualization (e.g. Bar Chart)\n",
    "4. **Encodings**: Encode meanings of the data (e.g. axes, colors, tooltips etc.)\n",
    "5. **Properties**: Additional Properties of the chart (e.g. Width, Height, Title, etc.)\n",
    "\n",
    "More information can be found in the [Vega-Altair User Guide](https://altair-viz.github.io/user_guide/data.html)"
   ]
  },
  {
   "cell_type": "markdown",
   "metadata": {},
   "source": [
    "---\n",
    "### 1. Bar Chart"
   ]
  },
  {
   "cell_type": "code",
   "execution_count": null,
   "metadata": {},
   "outputs": [],
   "source": [
    "# Bar chart with line\n",
    "bar = alt.Chart(data_url).mark_bar().encode(\n",
    "    x=alt.X('time:T', title='Year'),\n",
    "    y=alt.Y('tas:Q', aggregate='mean', title='Average Surface Temperature (°C)')\n",
    ").properties(\n",
    "    width=600,\n",
    "    height=400\n",
    ")\n",
    "\n",
    "bar"
   ]
  },
  {
   "cell_type": "markdown",
   "metadata": {},
   "source": [
    "This is very basic but works well. I want to improve the readability by **clustering** the years into groups of five and **scaling** the y-axis more to better show the actual trends. In this configuration, the data is imported through a URL link that contains the data in csv format. Therefore all calculations are not performed with the help of *pandas*. This could be an issue but for now, it is done manually. \n",
    "\n",
    "**scaled**:"
   ]
  },
  {
   "cell_type": "code",
   "execution_count": null,
   "metadata": {},
   "outputs": [],
   "source": [
    "bar_scaled = alt.Chart(data_url).mark_bar().encode(\n",
    "    x=alt.X('time:T', title='Year'),\n",
    "    y=alt.Y('tas:Q', aggregate='mean', title='Average Surface Temperature (°C)', scale=alt.Scale(domain=[250, 300]))\n",
    ").properties(\n",
    "    width=600,\n",
    "    height=400\n",
    ")\n",
    "bar_scaled"
   ]
  },
  {
   "cell_type": "markdown",
   "metadata": {},
   "source": [
    "**scaled + clustered**: "
   ]
  },
  {
   "cell_type": "code",
   "execution_count": 7,
   "metadata": {},
   "outputs": [
    {
     "data": {
      "text/html": [
       "\n",
       "<style>\n",
       "  #altair-viz-ddbfc56362ee48729741df1443caf003.vega-embed {\n",
       "    width: 100%;\n",
       "    display: flex;\n",
       "  }\n",
       "\n",
       "  #altair-viz-ddbfc56362ee48729741df1443caf003.vega-embed details,\n",
       "  #altair-viz-ddbfc56362ee48729741df1443caf003.vega-embed details summary {\n",
       "    position: relative;\n",
       "  }\n",
       "</style>\n",
       "<div id=\"altair-viz-ddbfc56362ee48729741df1443caf003\"></div>\n",
       "<script type=\"text/javascript\">\n",
       "  var VEGA_DEBUG = (typeof VEGA_DEBUG == \"undefined\") ? {} : VEGA_DEBUG;\n",
       "  (function(spec, embedOpt){\n",
       "    let outputDiv = document.currentScript.previousElementSibling;\n",
       "    if (outputDiv.id !== \"altair-viz-ddbfc56362ee48729741df1443caf003\") {\n",
       "      outputDiv = document.getElementById(\"altair-viz-ddbfc56362ee48729741df1443caf003\");\n",
       "    }\n",
       "\n",
       "    const paths = {\n",
       "      \"vega\": \"https://cdn.jsdelivr.net/npm/vega@5?noext\",\n",
       "      \"vega-lib\": \"https://cdn.jsdelivr.net/npm/vega-lib?noext\",\n",
       "      \"vega-lite\": \"https://cdn.jsdelivr.net/npm/vega-lite@5.20.1?noext\",\n",
       "      \"vega-embed\": \"https://cdn.jsdelivr.net/npm/vega-embed@6?noext\",\n",
       "    };\n",
       "\n",
       "    function maybeLoadScript(lib, version) {\n",
       "      var key = `${lib.replace(\"-\", \"\")}_version`;\n",
       "      return (VEGA_DEBUG[key] == version) ?\n",
       "        Promise.resolve(paths[lib]) :\n",
       "        new Promise(function(resolve, reject) {\n",
       "          var s = document.createElement('script');\n",
       "          document.getElementsByTagName(\"head\")[0].appendChild(s);\n",
       "          s.async = true;\n",
       "          s.onload = () => {\n",
       "            VEGA_DEBUG[key] = version;\n",
       "            return resolve(paths[lib]);\n",
       "          };\n",
       "          s.onerror = () => reject(`Error loading script: ${paths[lib]}`);\n",
       "          s.src = paths[lib];\n",
       "        });\n",
       "    }\n",
       "\n",
       "    function showError(err) {\n",
       "      outputDiv.innerHTML = `<div class=\"error\" style=\"color:red;\">${err}</div>`;\n",
       "      throw err;\n",
       "    }\n",
       "\n",
       "    function displayChart(vegaEmbed) {\n",
       "      vegaEmbed(outputDiv, spec, embedOpt)\n",
       "        .catch(err => showError(`Javascript Error: ${err.message}<br>This usually means there's a typo in your chart specification. See the javascript console for the full traceback.`));\n",
       "    }\n",
       "\n",
       "    if(typeof define === \"function\" && define.amd) {\n",
       "      requirejs.config({paths});\n",
       "      let deps = [\"vega-embed\"];\n",
       "      require(deps, displayChart, err => showError(`Error loading script: ${err.message}`));\n",
       "    } else {\n",
       "      maybeLoadScript(\"vega\", \"5\")\n",
       "        .then(() => maybeLoadScript(\"vega-lite\", \"5.20.1\"))\n",
       "        .then(() => maybeLoadScript(\"vega-embed\", \"6\"))\n",
       "        .catch(showError)\n",
       "        .then(() => displayChart(vegaEmbed));\n",
       "    }\n",
       "  })({\"config\": {\"view\": {\"continuousWidth\": 300, \"continuousHeight\": 300}}, \"data\": {\"url\": \"https://raw.githubusercontent.com/nickprbs/Forschungsprojekt/refs/heads/main/yearly_avg_downsampled.csv\"}, \"mark\": {\"type\": \"bar\"}, \"encoding\": {\"x\": {\"axis\": {\"labelAngle\": 0}, \"field\": \"year_group\", \"title\": \"Year (Interval of 5)\", \"type\": \"ordinal\"}, \"y\": {\"aggregate\": \"mean\", \"field\": \"tas\", \"scale\": {\"domain\": [250, 300]}, \"title\": \"Average Surface Temperature (\\u00b0C)\", \"type\": \"quantitative\"}}, \"height\": 400, \"transform\": [{\"calculate\": \"floor(year(datum.time)/5)*5\", \"as\": \"year_group\"}], \"width\": 600, \"$schema\": \"https://vega.github.io/schema/vega-lite/v5.20.1.json\"}, {\"mode\": \"vega-lite\"});\n",
       "</script>"
      ],
      "text/plain": [
       "alt.Chart(...)"
      ]
     },
     "execution_count": 7,
     "metadata": {},
     "output_type": "execute_result"
    }
   ],
   "source": [
    "bar_scaled_clustered = alt.Chart(data_url).transform_calculate(\n",
    "    year_group = \"floor(year(datum.time)/5)*5\"\n",
    ").mark_bar().encode(\n",
    "    x=alt.X('year_group:O', title='Year (Interval of 5)', axis=alt.Axis(labelAngle=0)),\n",
    "    y=alt.Y('tas:Q', aggregate='mean', title='Average Surface Temperature (°C)', scale=alt.Scale(domain=[250, 300]))\n",
    ").properties(\n",
    "    width=600,\n",
    "    height=400\n",
    ")\n",
    "bar_scaled_clustered"
   ]
  },
  {
   "cell_type": "markdown",
   "metadata": {},
   "source": [
    "Now, I want to add another line that schows the mean over the years. Because this reintroduces more data points ( average of every year instead of average of every five years), the x-axis needs to be altered: The x-axis of the bar chart is **binned** "
   ]
  },
  {
   "cell_type": "code",
   "execution_count": 22,
   "metadata": {},
   "outputs": [
    {
     "data": {
      "text/html": [
       "\n",
       "<style>\n",
       "  #altair-viz-f10ac120fe86447b980f1a1bea1fb30d.vega-embed {\n",
       "    width: 100%;\n",
       "    display: flex;\n",
       "  }\n",
       "\n",
       "  #altair-viz-f10ac120fe86447b980f1a1bea1fb30d.vega-embed details,\n",
       "  #altair-viz-f10ac120fe86447b980f1a1bea1fb30d.vega-embed details summary {\n",
       "    position: relative;\n",
       "  }\n",
       "</style>\n",
       "<div id=\"altair-viz-f10ac120fe86447b980f1a1bea1fb30d\"></div>\n",
       "<script type=\"text/javascript\">\n",
       "  var VEGA_DEBUG = (typeof VEGA_DEBUG == \"undefined\") ? {} : VEGA_DEBUG;\n",
       "  (function(spec, embedOpt){\n",
       "    let outputDiv = document.currentScript.previousElementSibling;\n",
       "    if (outputDiv.id !== \"altair-viz-f10ac120fe86447b980f1a1bea1fb30d\") {\n",
       "      outputDiv = document.getElementById(\"altair-viz-f10ac120fe86447b980f1a1bea1fb30d\");\n",
       "    }\n",
       "\n",
       "    const paths = {\n",
       "      \"vega\": \"https://cdn.jsdelivr.net/npm/vega@5?noext\",\n",
       "      \"vega-lib\": \"https://cdn.jsdelivr.net/npm/vega-lib?noext\",\n",
       "      \"vega-lite\": \"https://cdn.jsdelivr.net/npm/vega-lite@5.20.1?noext\",\n",
       "      \"vega-embed\": \"https://cdn.jsdelivr.net/npm/vega-embed@6?noext\",\n",
       "    };\n",
       "\n",
       "    function maybeLoadScript(lib, version) {\n",
       "      var key = `${lib.replace(\"-\", \"\")}_version`;\n",
       "      return (VEGA_DEBUG[key] == version) ?\n",
       "        Promise.resolve(paths[lib]) :\n",
       "        new Promise(function(resolve, reject) {\n",
       "          var s = document.createElement('script');\n",
       "          document.getElementsByTagName(\"head\")[0].appendChild(s);\n",
       "          s.async = true;\n",
       "          s.onload = () => {\n",
       "            VEGA_DEBUG[key] = version;\n",
       "            return resolve(paths[lib]);\n",
       "          };\n",
       "          s.onerror = () => reject(`Error loading script: ${paths[lib]}`);\n",
       "          s.src = paths[lib];\n",
       "        });\n",
       "    }\n",
       "\n",
       "    function showError(err) {\n",
       "      outputDiv.innerHTML = `<div class=\"error\" style=\"color:red;\">${err}</div>`;\n",
       "      throw err;\n",
       "    }\n",
       "\n",
       "    function displayChart(vegaEmbed) {\n",
       "      vegaEmbed(outputDiv, spec, embedOpt)\n",
       "        .catch(err => showError(`Javascript Error: ${err.message}<br>This usually means there's a typo in your chart specification. See the javascript console for the full traceback.`));\n",
       "    }\n",
       "\n",
       "    if(typeof define === \"function\" && define.amd) {\n",
       "      requirejs.config({paths});\n",
       "      let deps = [\"vega-embed\"];\n",
       "      require(deps, displayChart, err => showError(`Error loading script: ${err.message}`));\n",
       "    } else {\n",
       "      maybeLoadScript(\"vega\", \"5\")\n",
       "        .then(() => maybeLoadScript(\"vega-lite\", \"5.20.1\"))\n",
       "        .then(() => maybeLoadScript(\"vega-embed\", \"6\"))\n",
       "        .catch(showError)\n",
       "        .then(() => displayChart(vegaEmbed));\n",
       "    }\n",
       "  })({\"config\": {\"view\": {\"continuousWidth\": 300, \"continuousHeight\": 300}}, \"layer\": [{\"mark\": {\"type\": \"bar\"}, \"encoding\": {\"x\": {\"axis\": {\"labelAngle\": 0}, \"field\": \"year_group\", \"title\": \"Year (Interval of 5)\", \"type\": \"ordinal\"}, \"y\": {\"aggregate\": \"mean\", \"field\": \"tas\", \"scale\": {\"domain\": [250, 300]}, \"title\": \"Average Surface Temperature (\\u00b0C)\", \"type\": \"quantitative\"}}, \"transform\": [{\"calculate\": \"floor(year(datum.time)/5)*5\", \"as\": \"year_group\"}]}, {\"mark\": {\"type\": \"line\", \"color\": \"red\", \"strokeWidth\": 3}, \"encoding\": {\"x\": {\"axis\": null, \"field\": \"years\", \"scale\": {\"domain\": [2015, 2099]}, \"type\": \"quantitative\"}, \"y\": {\"aggregate\": \"mean\", \"field\": \"tas\", \"scale\": {\"domain\": [250, 300]}, \"type\": \"quantitative\"}}, \"transform\": [{\"calculate\": \"year(datum.time)\", \"as\": \"years\"}]}], \"data\": {\"url\": \"https://raw.githubusercontent.com/nickprbs/Forschungsprojekt/refs/heads/main/yearly_avg_downsampled.csv\"}, \"height\": 400, \"resolve\": {\"axis\": {\"x\": \"shared\", \"y\": \"shared\"}}, \"width\": 600, \"$schema\": \"https://vega.github.io/schema/vega-lite/v5.20.1.json\"}, {\"mode\": \"vega-lite\"});\n",
       "</script>"
      ],
      "text/plain": [
       "alt.LayerChart(...)"
      ]
     },
     "execution_count": 22,
     "metadata": {},
     "output_type": "execute_result"
    }
   ],
   "source": [
    "line = alt.Chart(data_url).transform_calculate(\n",
    "    years = \"year(datum.time)\"\n",
    ").mark_line(color='red', strokeWidth=3).encode(\n",
    "    x=alt.X('years:Q', axis=None, scale=alt.Scale(domain=[2015, 2099])),\n",
    "    y=alt.Y('tas:Q', aggregate='mean', scale=alt.Scale(domain=[250, 300]))\n",
    ").properties(\n",
    "    width=600,\n",
    "    height=400\n",
    ")\n",
    "\n",
    "\n",
    "combined = (bar_scaled_clustered + line).resolve_axis(x='shared', y='shared')\n",
    "combined"
   ]
  }
 ],
 "metadata": {
  "kernelspec": {
   "display_name": "venv",
   "language": "python",
   "name": "python3"
  },
  "language_info": {
   "codemirror_mode": {
    "name": "ipython",
    "version": 3
   },
   "file_extension": ".py",
   "mimetype": "text/x-python",
   "name": "python",
   "nbconvert_exporter": "python",
   "pygments_lexer": "ipython3",
   "version": "3.13.0"
  }
 },
 "nbformat": 4,
 "nbformat_minor": 2
}
